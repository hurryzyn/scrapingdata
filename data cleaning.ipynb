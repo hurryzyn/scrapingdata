{
  "nbformat": 4,
  "nbformat_minor": 0,
  "metadata": {
    "colab": {
      "provenance": []
    },
    "kernelspec": {
      "name": "python3",
      "display_name": "Python 3"
    },
    "language_info": {
      "name": "python"
    }
  },
  "cells": [
    {
      "cell_type": "code",
      "execution_count": 107,
      "metadata": {
        "id": "Nyz61Yzkg6Qm"
      },
      "outputs": [],
      "source": [
        "# @title\n",
        "import pandas as pd\n",
        "import numpy as np\n",
        "\n"
      ]
    },
    {
      "cell_type": "code",
      "source": [
        "df=pd.read_excel('top_500_manga  .xlsx')"
      ],
      "metadata": {
        "id": "1buch_4diTHh"
      },
      "execution_count": 86,
      "outputs": []
    },
    {
      "cell_type": "code",
      "source": [
        "df.head()"
      ],
      "metadata": {
        "colab": {
          "base_uri": "https://localhost:8080/",
          "height": 206
        },
        "id": "8P05Ojpzikmh",
        "outputId": "43b03e5f-9252-42fa-e4de-448573f2719e",
        "collapsed": true
      },
      "execution_count": 87,
      "outputs": [
        {
          "output_type": "execute_result",
          "data": {
            "text/plain": [
              "   Rank                                            Title   Type  Score  \\\n",
              "0     1                                          Berserk  Manga   9.47   \n",
              "1     2  JoJo no Kimyou na Bouken Part 7: Steel Ball Run  Manga   9.32   \n",
              "2     3                                         Vagabond  Manga   9.26   \n",
              "3     4                                        One Piece  Manga   9.22   \n",
              "4     5                                          Monster  Manga   9.16   \n",
              "\n",
              "  Year_release          Members  \n",
              "0         1989  729,426 members  \n",
              "1         2004  282,501 members  \n",
              "2         1998  409,202 members  \n",
              "3         1997  645,598 members  \n",
              "4         1994  260,280 members  "
            ],
            "text/html": [
              "\n",
              "  <div id=\"df-16b26388-b2e9-47cb-9052-a956e28168bb\" class=\"colab-df-container\">\n",
              "    <div>\n",
              "<style scoped>\n",
              "    .dataframe tbody tr th:only-of-type {\n",
              "        vertical-align: middle;\n",
              "    }\n",
              "\n",
              "    .dataframe tbody tr th {\n",
              "        vertical-align: top;\n",
              "    }\n",
              "\n",
              "    .dataframe thead th {\n",
              "        text-align: right;\n",
              "    }\n",
              "</style>\n",
              "<table border=\"1\" class=\"dataframe\">\n",
              "  <thead>\n",
              "    <tr style=\"text-align: right;\">\n",
              "      <th></th>\n",
              "      <th>Rank</th>\n",
              "      <th>Title</th>\n",
              "      <th>Type</th>\n",
              "      <th>Score</th>\n",
              "      <th>Year_release</th>\n",
              "      <th>Members</th>\n",
              "    </tr>\n",
              "  </thead>\n",
              "  <tbody>\n",
              "    <tr>\n",
              "      <th>0</th>\n",
              "      <td>1</td>\n",
              "      <td>Berserk</td>\n",
              "      <td>Manga</td>\n",
              "      <td>9.47</td>\n",
              "      <td>1989</td>\n",
              "      <td>729,426 members</td>\n",
              "    </tr>\n",
              "    <tr>\n",
              "      <th>1</th>\n",
              "      <td>2</td>\n",
              "      <td>JoJo no Kimyou na Bouken Part 7: Steel Ball Run</td>\n",
              "      <td>Manga</td>\n",
              "      <td>9.32</td>\n",
              "      <td>2004</td>\n",
              "      <td>282,501 members</td>\n",
              "    </tr>\n",
              "    <tr>\n",
              "      <th>2</th>\n",
              "      <td>3</td>\n",
              "      <td>Vagabond</td>\n",
              "      <td>Manga</td>\n",
              "      <td>9.26</td>\n",
              "      <td>1998</td>\n",
              "      <td>409,202 members</td>\n",
              "    </tr>\n",
              "    <tr>\n",
              "      <th>3</th>\n",
              "      <td>4</td>\n",
              "      <td>One Piece</td>\n",
              "      <td>Manga</td>\n",
              "      <td>9.22</td>\n",
              "      <td>1997</td>\n",
              "      <td>645,598 members</td>\n",
              "    </tr>\n",
              "    <tr>\n",
              "      <th>4</th>\n",
              "      <td>5</td>\n",
              "      <td>Monster</td>\n",
              "      <td>Manga</td>\n",
              "      <td>9.16</td>\n",
              "      <td>1994</td>\n",
              "      <td>260,280 members</td>\n",
              "    </tr>\n",
              "  </tbody>\n",
              "</table>\n",
              "</div>\n",
              "    <div class=\"colab-df-buttons\">\n",
              "\n",
              "  <div class=\"colab-df-container\">\n",
              "    <button class=\"colab-df-convert\" onclick=\"convertToInteractive('df-16b26388-b2e9-47cb-9052-a956e28168bb')\"\n",
              "            title=\"Convert this dataframe to an interactive table.\"\n",
              "            style=\"display:none;\">\n",
              "\n",
              "  <svg xmlns=\"http://www.w3.org/2000/svg\" height=\"24px\" viewBox=\"0 -960 960 960\">\n",
              "    <path d=\"M120-120v-720h720v720H120Zm60-500h600v-160H180v160Zm220 220h160v-160H400v160Zm0 220h160v-160H400v160ZM180-400h160v-160H180v160Zm440 0h160v-160H620v160ZM180-180h160v-160H180v160Zm440 0h160v-160H620v160Z\"/>\n",
              "  </svg>\n",
              "    </button>\n",
              "\n",
              "  <style>\n",
              "    .colab-df-container {\n",
              "      display:flex;\n",
              "      gap: 12px;\n",
              "    }\n",
              "\n",
              "    .colab-df-convert {\n",
              "      background-color: #E8F0FE;\n",
              "      border: none;\n",
              "      border-radius: 50%;\n",
              "      cursor: pointer;\n",
              "      display: none;\n",
              "      fill: #1967D2;\n",
              "      height: 32px;\n",
              "      padding: 0 0 0 0;\n",
              "      width: 32px;\n",
              "    }\n",
              "\n",
              "    .colab-df-convert:hover {\n",
              "      background-color: #E2EBFA;\n",
              "      box-shadow: 0px 1px 2px rgba(60, 64, 67, 0.3), 0px 1px 3px 1px rgba(60, 64, 67, 0.15);\n",
              "      fill: #174EA6;\n",
              "    }\n",
              "\n",
              "    .colab-df-buttons div {\n",
              "      margin-bottom: 4px;\n",
              "    }\n",
              "\n",
              "    [theme=dark] .colab-df-convert {\n",
              "      background-color: #3B4455;\n",
              "      fill: #D2E3FC;\n",
              "    }\n",
              "\n",
              "    [theme=dark] .colab-df-convert:hover {\n",
              "      background-color: #434B5C;\n",
              "      box-shadow: 0px 1px 3px 1px rgba(0, 0, 0, 0.15);\n",
              "      filter: drop-shadow(0px 1px 2px rgba(0, 0, 0, 0.3));\n",
              "      fill: #FFFFFF;\n",
              "    }\n",
              "  </style>\n",
              "\n",
              "    <script>\n",
              "      const buttonEl =\n",
              "        document.querySelector('#df-16b26388-b2e9-47cb-9052-a956e28168bb button.colab-df-convert');\n",
              "      buttonEl.style.display =\n",
              "        google.colab.kernel.accessAllowed ? 'block' : 'none';\n",
              "\n",
              "      async function convertToInteractive(key) {\n",
              "        const element = document.querySelector('#df-16b26388-b2e9-47cb-9052-a956e28168bb');\n",
              "        const dataTable =\n",
              "          await google.colab.kernel.invokeFunction('convertToInteractive',\n",
              "                                                    [key], {});\n",
              "        if (!dataTable) return;\n",
              "\n",
              "        const docLinkHtml = 'Like what you see? Visit the ' +\n",
              "          '<a target=\"_blank\" href=https://colab.research.google.com/notebooks/data_table.ipynb>data table notebook</a>'\n",
              "          + ' to learn more about interactive tables.';\n",
              "        element.innerHTML = '';\n",
              "        dataTable['output_type'] = 'display_data';\n",
              "        await google.colab.output.renderOutput(dataTable, element);\n",
              "        const docLink = document.createElement('div');\n",
              "        docLink.innerHTML = docLinkHtml;\n",
              "        element.appendChild(docLink);\n",
              "      }\n",
              "    </script>\n",
              "  </div>\n",
              "\n",
              "\n",
              "<div id=\"df-ee0679bd-4841-4546-9e4d-9954e347192d\">\n",
              "  <button class=\"colab-df-quickchart\" onclick=\"quickchart('df-ee0679bd-4841-4546-9e4d-9954e347192d')\"\n",
              "            title=\"Suggest charts\"\n",
              "            style=\"display:none;\">\n",
              "\n",
              "<svg xmlns=\"http://www.w3.org/2000/svg\" height=\"24px\"viewBox=\"0 0 24 24\"\n",
              "     width=\"24px\">\n",
              "    <g>\n",
              "        <path d=\"M19 3H5c-1.1 0-2 .9-2 2v14c0 1.1.9 2 2 2h14c1.1 0 2-.9 2-2V5c0-1.1-.9-2-2-2zM9 17H7v-7h2v7zm4 0h-2V7h2v10zm4 0h-2v-4h2v4z\"/>\n",
              "    </g>\n",
              "</svg>\n",
              "  </button>\n",
              "\n",
              "<style>\n",
              "  .colab-df-quickchart {\n",
              "      --bg-color: #E8F0FE;\n",
              "      --fill-color: #1967D2;\n",
              "      --hover-bg-color: #E2EBFA;\n",
              "      --hover-fill-color: #174EA6;\n",
              "      --disabled-fill-color: #AAA;\n",
              "      --disabled-bg-color: #DDD;\n",
              "  }\n",
              "\n",
              "  [theme=dark] .colab-df-quickchart {\n",
              "      --bg-color: #3B4455;\n",
              "      --fill-color: #D2E3FC;\n",
              "      --hover-bg-color: #434B5C;\n",
              "      --hover-fill-color: #FFFFFF;\n",
              "      --disabled-bg-color: #3B4455;\n",
              "      --disabled-fill-color: #666;\n",
              "  }\n",
              "\n",
              "  .colab-df-quickchart {\n",
              "    background-color: var(--bg-color);\n",
              "    border: none;\n",
              "    border-radius: 50%;\n",
              "    cursor: pointer;\n",
              "    display: none;\n",
              "    fill: var(--fill-color);\n",
              "    height: 32px;\n",
              "    padding: 0;\n",
              "    width: 32px;\n",
              "  }\n",
              "\n",
              "  .colab-df-quickchart:hover {\n",
              "    background-color: var(--hover-bg-color);\n",
              "    box-shadow: 0 1px 2px rgba(60, 64, 67, 0.3), 0 1px 3px 1px rgba(60, 64, 67, 0.15);\n",
              "    fill: var(--button-hover-fill-color);\n",
              "  }\n",
              "\n",
              "  .colab-df-quickchart-complete:disabled,\n",
              "  .colab-df-quickchart-complete:disabled:hover {\n",
              "    background-color: var(--disabled-bg-color);\n",
              "    fill: var(--disabled-fill-color);\n",
              "    box-shadow: none;\n",
              "  }\n",
              "\n",
              "  .colab-df-spinner {\n",
              "    border: 2px solid var(--fill-color);\n",
              "    border-color: transparent;\n",
              "    border-bottom-color: var(--fill-color);\n",
              "    animation:\n",
              "      spin 1s steps(1) infinite;\n",
              "  }\n",
              "\n",
              "  @keyframes spin {\n",
              "    0% {\n",
              "      border-color: transparent;\n",
              "      border-bottom-color: var(--fill-color);\n",
              "      border-left-color: var(--fill-color);\n",
              "    }\n",
              "    20% {\n",
              "      border-color: transparent;\n",
              "      border-left-color: var(--fill-color);\n",
              "      border-top-color: var(--fill-color);\n",
              "    }\n",
              "    30% {\n",
              "      border-color: transparent;\n",
              "      border-left-color: var(--fill-color);\n",
              "      border-top-color: var(--fill-color);\n",
              "      border-right-color: var(--fill-color);\n",
              "    }\n",
              "    40% {\n",
              "      border-color: transparent;\n",
              "      border-right-color: var(--fill-color);\n",
              "      border-top-color: var(--fill-color);\n",
              "    }\n",
              "    60% {\n",
              "      border-color: transparent;\n",
              "      border-right-color: var(--fill-color);\n",
              "    }\n",
              "    80% {\n",
              "      border-color: transparent;\n",
              "      border-right-color: var(--fill-color);\n",
              "      border-bottom-color: var(--fill-color);\n",
              "    }\n",
              "    90% {\n",
              "      border-color: transparent;\n",
              "      border-bottom-color: var(--fill-color);\n",
              "    }\n",
              "  }\n",
              "</style>\n",
              "\n",
              "  <script>\n",
              "    async function quickchart(key) {\n",
              "      const quickchartButtonEl =\n",
              "        document.querySelector('#' + key + ' button');\n",
              "      quickchartButtonEl.disabled = true;  // To prevent multiple clicks.\n",
              "      quickchartButtonEl.classList.add('colab-df-spinner');\n",
              "      try {\n",
              "        const charts = await google.colab.kernel.invokeFunction(\n",
              "            'suggestCharts', [key], {});\n",
              "      } catch (error) {\n",
              "        console.error('Error during call to suggestCharts:', error);\n",
              "      }\n",
              "      quickchartButtonEl.classList.remove('colab-df-spinner');\n",
              "      quickchartButtonEl.classList.add('colab-df-quickchart-complete');\n",
              "    }\n",
              "    (() => {\n",
              "      let quickchartButtonEl =\n",
              "        document.querySelector('#df-ee0679bd-4841-4546-9e4d-9954e347192d button');\n",
              "      quickchartButtonEl.style.display =\n",
              "        google.colab.kernel.accessAllowed ? 'block' : 'none';\n",
              "    })();\n",
              "  </script>\n",
              "</div>\n",
              "\n",
              "    </div>\n",
              "  </div>\n"
            ],
            "application/vnd.google.colaboratory.intrinsic+json": {
              "type": "dataframe",
              "variable_name": "df",
              "summary": "{\n  \"name\": \"df\",\n  \"rows\": 500,\n  \"fields\": [\n    {\n      \"column\": \"Rank\",\n      \"properties\": {\n        \"dtype\": \"number\",\n        \"std\": 144,\n        \"min\": 1,\n        \"max\": 500,\n        \"num_unique_values\": 500,\n        \"samples\": [\n          362,\n          74,\n          375\n        ],\n        \"semantic_type\": \"\",\n        \"description\": \"\"\n      }\n    },\n    {\n      \"column\": \"Title\",\n      \"properties\": {\n        \"dtype\": \"string\",\n        \"num_unique_values\": 485,\n        \"samples\": [\n          \"Meteor Methuselah\",\n          \"Hajishirazu no Purple Haze: JoJo no Kimyou na Bouken yori\",\n          \"Shimeji Simulation\"\n        ],\n        \"semantic_type\": \"\",\n        \"description\": \"\"\n      }\n    },\n    {\n      \"column\": \"Type\",\n      \"properties\": {\n        \"dtype\": \"category\",\n        \"num_unique_values\": 6,\n        \"samples\": [\n          \"Manga\",\n          \"Novel\",\n          \"One-shot\"\n        ],\n        \"semantic_type\": \"\",\n        \"description\": \"\"\n      }\n    },\n    {\n      \"column\": \"Score\",\n      \"properties\": {\n        \"dtype\": \"number\",\n        \"std\": 0.22791456666786092,\n        \"min\": 8.15,\n        \"max\": 9.47,\n        \"num_unique_values\": 89,\n        \"samples\": [\n          8.59,\n          8.5,\n          8.73\n        ],\n        \"semantic_type\": \"\",\n        \"description\": \"\"\n      }\n    },\n    {\n      \"column\": \"Year_release\",\n      \"properties\": {\n        \"dtype\": \"category\",\n        \"num_unique_values\": 50,\n        \"samples\": [\n          \"2007\",\n          \"1984\",\n          \"2002\"\n        ],\n        \"semantic_type\": \"\",\n        \"description\": \"\"\n      }\n    },\n    {\n      \"column\": \"Members\",\n      \"properties\": {\n        \"dtype\": \"string\",\n        \"num_unique_values\": 499,\n        \"samples\": [\n          \"2,767 members\",\n          \"132,763 members\",\n          \"85,225 members\"\n        ],\n        \"semantic_type\": \"\",\n        \"description\": \"\"\n      }\n    }\n  ]\n}"
            }
          },
          "metadata": {},
          "execution_count": 87
        }
      ]
    },
    {
      "cell_type": "code",
      "source": [
        "df.info()"
      ],
      "metadata": {
        "colab": {
          "base_uri": "https://localhost:8080/"
        },
        "id": "f-lZTpIQitp_",
        "outputId": "5c53fa29-f88b-4cfc-9507-115b1fc3701b",
        "collapsed": true
      },
      "execution_count": 88,
      "outputs": [
        {
          "output_type": "stream",
          "name": "stdout",
          "text": [
            "<class 'pandas.core.frame.DataFrame'>\n",
            "RangeIndex: 500 entries, 0 to 499\n",
            "Data columns (total 6 columns):\n",
            " #   Column        Non-Null Count  Dtype  \n",
            "---  ------        --------------  -----  \n",
            " 0   Rank          500 non-null    int64  \n",
            " 1   Title         500 non-null    object \n",
            " 2   Type          500 non-null    object \n",
            " 3   Score         500 non-null    float64\n",
            " 4   Year_release  500 non-null    object \n",
            " 5   Members       500 non-null    object \n",
            "dtypes: float64(1), int64(1), object(4)\n",
            "memory usage: 23.6+ KB\n"
          ]
        }
      ]
    },
    {
      "cell_type": "code",
      "source": [
        "df.isnull().any()"
      ],
      "metadata": {
        "colab": {
          "base_uri": "https://localhost:8080/",
          "height": 272
        },
        "id": "2GIfjxeMm-wF",
        "outputId": "edba33d9-279e-4b5c-edf0-0863840367ef",
        "collapsed": true
      },
      "execution_count": 89,
      "outputs": [
        {
          "output_type": "execute_result",
          "data": {
            "text/plain": [
              "Rank            False\n",
              "Title           False\n",
              "Type            False\n",
              "Score           False\n",
              "Year_release    False\n",
              "Members         False\n",
              "dtype: bool"
            ],
            "text/html": [
              "<div>\n",
              "<style scoped>\n",
              "    .dataframe tbody tr th:only-of-type {\n",
              "        vertical-align: middle;\n",
              "    }\n",
              "\n",
              "    .dataframe tbody tr th {\n",
              "        vertical-align: top;\n",
              "    }\n",
              "\n",
              "    .dataframe thead th {\n",
              "        text-align: right;\n",
              "    }\n",
              "</style>\n",
              "<table border=\"1\" class=\"dataframe\">\n",
              "  <thead>\n",
              "    <tr style=\"text-align: right;\">\n",
              "      <th></th>\n",
              "      <th>0</th>\n",
              "    </tr>\n",
              "  </thead>\n",
              "  <tbody>\n",
              "    <tr>\n",
              "      <th>Rank</th>\n",
              "      <td>False</td>\n",
              "    </tr>\n",
              "    <tr>\n",
              "      <th>Title</th>\n",
              "      <td>False</td>\n",
              "    </tr>\n",
              "    <tr>\n",
              "      <th>Type</th>\n",
              "      <td>False</td>\n",
              "    </tr>\n",
              "    <tr>\n",
              "      <th>Score</th>\n",
              "      <td>False</td>\n",
              "    </tr>\n",
              "    <tr>\n",
              "      <th>Year_release</th>\n",
              "      <td>False</td>\n",
              "    </tr>\n",
              "    <tr>\n",
              "      <th>Members</th>\n",
              "      <td>False</td>\n",
              "    </tr>\n",
              "  </tbody>\n",
              "</table>\n",
              "</div><br><label><b>dtype:</b> bool</label>"
            ]
          },
          "metadata": {},
          "execution_count": 89
        }
      ]
    },
    {
      "cell_type": "code",
      "source": [
        "mv=df.isnull().sum()\n",
        "mv[mv>0]"
      ],
      "metadata": {
        "colab": {
          "base_uri": "https://localhost:8080/",
          "height": 84
        },
        "id": "cJLN4IusnUlh",
        "outputId": "71ba8ed6-c9d4-4a22-f38c-bb57527f8785",
        "collapsed": true
      },
      "execution_count": 90,
      "outputs": [
        {
          "output_type": "execute_result",
          "data": {
            "text/plain": [
              "Series([], dtype: int64)"
            ],
            "text/html": [
              "<div>\n",
              "<style scoped>\n",
              "    .dataframe tbody tr th:only-of-type {\n",
              "        vertical-align: middle;\n",
              "    }\n",
              "\n",
              "    .dataframe tbody tr th {\n",
              "        vertical-align: top;\n",
              "    }\n",
              "\n",
              "    .dataframe thead th {\n",
              "        text-align: right;\n",
              "    }\n",
              "</style>\n",
              "<table border=\"1\" class=\"dataframe\">\n",
              "  <thead>\n",
              "    <tr style=\"text-align: right;\">\n",
              "      <th></th>\n",
              "      <th>0</th>\n",
              "    </tr>\n",
              "  </thead>\n",
              "  <tbody>\n",
              "  </tbody>\n",
              "</table>\n",
              "</div><br><label><b>dtype:</b> int64</label>"
            ]
          },
          "metadata": {},
          "execution_count": 90
        }
      ]
    },
    {
      "cell_type": "code",
      "source": [
        "df.isnull().sum().sum()"
      ],
      "metadata": {
        "colab": {
          "base_uri": "https://localhost:8080/"
        },
        "id": "C1ahp23qsHGb",
        "outputId": "7183edbe-c604-4e41-ddd8-3ddcb8fe2e47",
        "collapsed": true
      },
      "execution_count": 91,
      "outputs": [
        {
          "output_type": "execute_result",
          "data": {
            "text/plain": [
              "0"
            ]
          },
          "metadata": {},
          "execution_count": 91
        }
      ]
    },
    {
      "cell_type": "code",
      "source": [
        "df['Year_release'].unique()"
      ],
      "metadata": {
        "colab": {
          "base_uri": "https://localhost:8080/"
        },
        "id": "bpryBxNEnh3p",
        "outputId": "50523cce-af92-4d93-8b77-51f195053380",
        "collapsed": true
      },
      "execution_count": 92,
      "outputs": [
        {
          "output_type": "execute_result",
          "data": {
            "text/plain": [
              "array(['1989', '2004', '1998', '1997', '1994', '1990', '2005', '2021',\n",
              "       '2001', '2014', '2022', '2020', '2006', '2007', '2012', '1999',\n",
              "       '1968', '2016', '2003', '2015', '2010', '2013', '1996', '2019',\n",
              "       '2009', '2017', '1982', '2000', '2011', '2018', '2002', '1970',\n",
              "       '1985', '1992', '2008', '1966', 'One', '1988', '1969', '1984',\n",
              "       '1976', '1993', '2023', '1972', '1991', '1973', '1981', '1980',\n",
              "       '1995', 'ols)'], dtype=object)"
            ]
          },
          "metadata": {},
          "execution_count": 92
        }
      ]
    },
    {
      "cell_type": "code",
      "source": [
        "df['Year_release']=np.where(df['Year_release']==\"One\",\"0\", np.where(df['Year_release']== \"ols)\" , \"0\", df['Year_release']) )\n",
        "\n"
      ],
      "metadata": {
        "id": "86NqJP3GuUph"
      },
      "execution_count": 93,
      "outputs": []
    },
    {
      "cell_type": "code",
      "source": [
        "df.info()"
      ],
      "metadata": {
        "colab": {
          "base_uri": "https://localhost:8080/"
        },
        "id": "Qg9CKI6xFtgr",
        "outputId": "b672baad-d3fb-41d6-ab97-d3510e721ff1",
        "collapsed": true
      },
      "execution_count": 94,
      "outputs": [
        {
          "output_type": "stream",
          "name": "stdout",
          "text": [
            "<class 'pandas.core.frame.DataFrame'>\n",
            "RangeIndex: 500 entries, 0 to 499\n",
            "Data columns (total 6 columns):\n",
            " #   Column        Non-Null Count  Dtype  \n",
            "---  ------        --------------  -----  \n",
            " 0   Rank          500 non-null    int64  \n",
            " 1   Title         500 non-null    object \n",
            " 2   Type          500 non-null    object \n",
            " 3   Score         500 non-null    float64\n",
            " 4   Year_release  500 non-null    object \n",
            " 5   Members       500 non-null    object \n",
            "dtypes: float64(1), int64(1), object(4)\n",
            "memory usage: 23.6+ KB\n"
          ]
        }
      ]
    },
    {
      "cell_type": "code",
      "source": [
        "df['Year_release'].unique()"
      ],
      "metadata": {
        "colab": {
          "base_uri": "https://localhost:8080/"
        },
        "id": "eabiLcVJF0fG",
        "outputId": "89f3a952-04c1-436d-85cc-f374e2bc1ec5",
        "collapsed": true
      },
      "execution_count": 95,
      "outputs": [
        {
          "output_type": "execute_result",
          "data": {
            "text/plain": [
              "array(['1989', '2004', '1998', '1997', '1994', '1990', '2005', '2021',\n",
              "       '2001', '2014', '2022', '2020', '2006', '2007', '2012', '1999',\n",
              "       '1968', '2016', '2003', '2015', '2010', '2013', '1996', '2019',\n",
              "       '2009', '2017', '1982', '2000', '2011', '2018', '2002', '1970',\n",
              "       '1985', '1992', '2008', '1966', '0', '1988', '1969', '1984',\n",
              "       '1976', '1993', '2023', '1972', '1991', '1973', '1981', '1980',\n",
              "       '1995'], dtype=object)"
            ]
          },
          "metadata": {},
          "execution_count": 95
        }
      ]
    },
    {
      "cell_type": "code",
      "source": [
        "df['Year_release'] = pd.to_datetime(df['Year_release'], format='%Y', errors='coerce').dt.year\n"
      ],
      "metadata": {
        "id": "Hdmx7WhrGQGe",
        "collapsed": true
      },
      "execution_count": 96,
      "outputs": []
    },
    {
      "cell_type": "code",
      "source": [
        "df['Year_release'].unique()"
      ],
      "metadata": {
        "colab": {
          "base_uri": "https://localhost:8080/"
        },
        "id": "QxQYgZJoGvqf",
        "outputId": "18b20970-2bf4-47bb-92f6-b07b98cc68ab"
      },
      "execution_count": 97,
      "outputs": [
        {
          "output_type": "execute_result",
          "data": {
            "text/plain": [
              "array([1989., 2004., 1998., 1997., 1994., 1990., 2005., 2021., 2001.,\n",
              "       2014., 2022., 2020., 2006., 2007., 2012., 1999., 1968., 2016.,\n",
              "       2003., 2015., 2010., 2013., 1996., 2019., 2009., 2017., 1982.,\n",
              "       2000., 2011., 2018., 2002., 1970., 1985., 1992., 2008., 1966.,\n",
              "         nan, 1988., 1969., 1984., 1976., 1993., 2023., 1972., 1991.,\n",
              "       1973., 1981., 1980., 1995.])"
            ]
          },
          "metadata": {},
          "execution_count": 97
        }
      ]
    },
    {
      "cell_type": "code",
      "source": [
        "df['Type'].unique()"
      ],
      "metadata": {
        "id": "V3DWViAWG-Pu",
        "colab": {
          "base_uri": "https://localhost:8080/"
        },
        "outputId": "4f891b38-a8f9-437f-86ea-2a9d29e03414",
        "collapsed": true
      },
      "execution_count": 98,
      "outputs": [
        {
          "output_type": "execute_result",
          "data": {
            "text/plain": [
              "array(['Manga', 'Novel', 'Light', 'Manhua', 'Manhwa', 'One-shot'],\n",
              "      dtype=object)"
            ]
          },
          "metadata": {},
          "execution_count": 98
        }
      ]
    },
    {
      "cell_type": "code",
      "source": [
        "df['Type'] = np.where(df['Type'] == \"Light\", \"Light Novel\", df['Type'])\n"
      ],
      "metadata": {
        "id": "kbZx9yCozYCl"
      },
      "execution_count": 99,
      "outputs": []
    },
    {
      "cell_type": "code",
      "source": [
        "df['Type'].unique()"
      ],
      "metadata": {
        "colab": {
          "base_uri": "https://localhost:8080/"
        },
        "id": "5Q5csSlEzkKO",
        "outputId": "dc037647-5cab-4e75-8e67-903625026022",
        "collapsed": true
      },
      "execution_count": 100,
      "outputs": [
        {
          "output_type": "execute_result",
          "data": {
            "text/plain": [
              "array(['Manga', 'Novel', 'Light Novel', 'Manhua', 'Manhwa', 'One-shot'],\n",
              "      dtype=object)"
            ]
          },
          "metadata": {},
          "execution_count": 100
        }
      ]
    },
    {
      "cell_type": "code",
      "source": [
        "np.where(df['Type']==\"Novel\",\"Light Novel\",df['Type'])"
      ],
      "metadata": {
        "colab": {
          "base_uri": "https://localhost:8080/"
        },
        "collapsed": true,
        "id": "Bm1a3-8zzxKi",
        "outputId": "74167187-e180-4f12-d97c-de9bc4caa62f"
      },
      "execution_count": 101,
      "outputs": [
        {
          "output_type": "execute_result",
          "data": {
            "text/plain": [
              "array(['Manga', 'Manga', 'Manga', 'Manga', 'Manga', 'Manga', 'Manga',\n",
              "       'Light Novel', 'Manga', 'Manga', 'Light Novel', 'Light Novel',\n",
              "       'Manga', 'Manga', 'Manga', 'Manga', 'Manga', 'Manga',\n",
              "       'Light Novel', 'Light Novel', 'Manga', 'Manga', 'Light Novel',\n",
              "       'Manga', 'Light Novel', 'Manga', 'Manga', 'Manga', 'Manhua',\n",
              "       'Manga', 'Light Novel', 'Manga', 'Light Novel', 'Light Novel',\n",
              "       'Manga', 'Light Novel', 'Light Novel', 'Manga', 'Manga', 'Manga',\n",
              "       'Light Novel', 'Light Novel', 'Manga', 'Manhwa', 'Manga',\n",
              "       'Light Novel', 'Manga', 'Manga', 'Manga', 'Manga', 'Light Novel',\n",
              "       'Manga', 'Light Novel', 'Manga', 'Manga', 'Light Novel', 'Manga',\n",
              "       'Manga', 'Manga', 'Manhwa', 'Light Novel', 'Manga', 'Manhwa',\n",
              "       'Manga', 'Manga', 'Manga', 'Manga', 'Manga', 'Manhwa', 'Manga',\n",
              "       'Light Novel', 'Manga', 'Manga', 'Manga', 'Manga', 'Light Novel',\n",
              "       'Light Novel', 'Manga', 'Manga', 'Manhwa', 'Manga', 'Manhua',\n",
              "       'Manga', 'Manga', 'Light Novel', 'Light Novel', 'Manga', 'Manga',\n",
              "       'Light Novel', 'Manga', 'Manga', 'Manga', 'Light Novel',\n",
              "       'Light Novel', 'Light Novel', 'Light Novel', 'Manga', 'Manhua',\n",
              "       'Manga', 'Manga', 'Manga', 'Manhwa', 'Manga', 'Manga', 'Manhwa',\n",
              "       'Manhwa', 'Manga', 'Light Novel', 'Manga', 'Manga', 'Manga',\n",
              "       'Manga', 'Manga', 'Manga', 'Manga', 'Manga', 'Manga', 'Manga',\n",
              "       'Manga', 'Manga', 'Light Novel', 'Manga', 'Manga', 'Manga',\n",
              "       'Manhua', 'Light Novel', 'Manga', 'Light Novel', 'Manga', 'Manga',\n",
              "       'Manga', 'Light Novel', 'Manga', 'Manhwa', 'Manga', 'Manhwa',\n",
              "       'Manga', 'Light Novel', 'Light Novel', 'Manga', 'Light Novel',\n",
              "       'Manga', 'Light Novel', 'Manga', 'Light Novel', 'Manga',\n",
              "       'Light Novel', 'Manga', 'Manga', 'Manga', 'Manhwa', 'Manga',\n",
              "       'Manga', 'Light Novel', 'Manga', 'Manga', 'One-shot', 'Manga',\n",
              "       'Manhwa', 'Manhwa', 'Manga', 'Light Novel', 'Manga', 'Manhwa',\n",
              "       'Manga', 'Manhua', 'Light Novel', 'Manga', 'Manga', 'Manga',\n",
              "       'Manga', 'Manhwa', 'Manga', 'Manga', 'Manga', 'Manga', 'Manga',\n",
              "       'Manga', 'Manga', 'Light Novel', 'Manga', 'Manga', 'Manga',\n",
              "       'Light Novel', 'Manhua', 'Manga', 'Manga', 'Manhwa', 'Manga',\n",
              "       'Manga', 'Manga', 'Manga', 'Manga', 'Manhwa', 'Manga', 'Manga',\n",
              "       'Manga', 'Light Novel', 'Manga', 'Light Novel', 'Light Novel',\n",
              "       'Light Novel', 'Light Novel', 'Manga', 'Manga', 'Manga', 'Manga',\n",
              "       'Manga', 'Manga', 'Manga', 'Light Novel', 'Manga', 'Manga',\n",
              "       'Manga', 'Manga', 'Manga', 'Light Novel', 'Light Novel', 'Manga',\n",
              "       'Manga', 'Manga', 'Manhwa', 'Manga', 'Manhwa', 'Manga', 'Manga',\n",
              "       'Manga', 'Manga', 'Light Novel', 'Manhua', 'Light Novel', 'Manga',\n",
              "       'One-shot', 'Manga', 'Manga', 'Light Novel', 'Manga',\n",
              "       'Light Novel', 'Manga', 'Manga', 'Manga', 'Manga', 'Manga',\n",
              "       'Manga', 'Manhwa', 'Manhwa', 'Manga', 'Light Novel', 'Manhwa',\n",
              "       'Manga', 'Manga', 'Manga', 'Manga', 'Manga', 'Manga', 'Manga',\n",
              "       'Manga', 'Manga', 'Manga', 'Light Novel', 'Light Novel', 'Manhwa',\n",
              "       'Manga', 'Light Novel', 'Manhwa', 'Manga', 'Manga', 'Manga',\n",
              "       'Manga', 'Manga', 'Light Novel', 'Manga', 'Manga', 'Manga',\n",
              "       'Light Novel', 'Manga', 'Manga', 'Manhwa', 'Manga', 'Manga',\n",
              "       'Manga', 'Manga', 'Manga', 'Light Novel', 'Manga', 'Manga',\n",
              "       'Manga', 'Manga', 'Manga', 'Manga', 'Manga', 'Manga',\n",
              "       'Light Novel', 'Light Novel', 'Manga', 'Manga', 'Manga', 'Manga',\n",
              "       'Manga', 'Manga', 'Manga', 'Light Novel', 'Manga', 'Manga',\n",
              "       'Manga', 'Manga', 'Light Novel', 'Manga', 'Manga', 'Manga',\n",
              "       'Manga', 'Manga', 'Manga', 'Manga', 'Manga', 'Manga', 'Manga',\n",
              "       'Manga', 'Manga', 'Manga', 'Manga', 'Manga', 'Manga', 'Manhwa',\n",
              "       'Manga', 'Manga', 'Manga', 'Manga', 'Manga', 'Manga', 'Manga',\n",
              "       'Manga', 'Manga', 'Manga', 'Manga', 'Manga', 'Manga', 'Manga',\n",
              "       'Manga', 'Manga', 'Manga', 'Manga', 'Manga', 'Manga', 'Manga',\n",
              "       'Manga', 'Manga', 'Manga', 'Manhwa', 'Light Novel', 'Manga',\n",
              "       'Manga', 'Manga', 'Manga', 'Manga', 'Manhwa', 'Manhwa', 'Manga',\n",
              "       'Manga', 'Light Novel', 'Manhua', 'Manga', 'Manga', 'Manga',\n",
              "       'Manga', 'Manga', 'Manga', 'Manga', 'Manga', 'Manga', 'Manga',\n",
              "       'Manga', 'Manga', 'Manga', 'Manga', 'Manga', 'Manga', 'Manga',\n",
              "       'Manhua', 'Manga', 'Manga', 'Manhwa', 'Light Novel', 'Light Novel',\n",
              "       'Manga', 'Manga', 'Manga', 'Manga', 'Manga', 'Manga', 'Manga',\n",
              "       'Manga', 'Manga', 'Manga', 'Light Novel', 'Manga', 'Manga',\n",
              "       'Manga', 'Manga', 'Light Novel', 'Light Novel', 'Manga', 'Manga',\n",
              "       'Light Novel', 'Manga', 'Manhwa', 'Manga', 'Manga', 'Manga',\n",
              "       'Manga', 'Manhwa', 'Light Novel', 'Manga', 'Manga', 'Manga',\n",
              "       'Manga', 'Manga', 'Manga', 'Manga', 'Manga', 'Manga', 'Manga',\n",
              "       'Manga', 'Manhwa', 'Manhwa', 'Manga', 'Light Novel', 'Light Novel',\n",
              "       'Manga', 'Manga', 'Manhwa', 'Manga', 'Manga', 'Manga', 'Manga',\n",
              "       'Manga', 'Manhua', 'Light Novel', 'Manga', 'Manga', 'Manga',\n",
              "       'Light Novel', 'Manga', 'Manga', 'Manhwa', 'Manhwa', 'Light Novel',\n",
              "       'Manga', 'Light Novel', 'Manga', 'Manga', 'Manga', 'Light Novel',\n",
              "       'Manga', 'Manga', 'Manga', 'Manga', 'Manga', 'Manhua', 'Manga',\n",
              "       'Manhwa', 'Manhwa', 'Light Novel', 'Manga', 'Manhwa',\n",
              "       'Light Novel', 'Manga', 'Manga', 'Manhwa', 'Manhwa', 'Manga',\n",
              "       'Manga', 'Light Novel', 'Manga', 'Manhwa', 'Manga', 'Manga',\n",
              "       'Manga', 'Manga', 'Manga', 'Manga', 'Manga', 'Manga', 'Manga',\n",
              "       'Manga', 'Manga', 'Manga', 'Manga', 'Manga', 'Light Novel',\n",
              "       'Light Novel', 'Manga', 'Manga', 'Manga', 'Light Novel', 'Manga',\n",
              "       'Manga', 'Manga', 'Manga', 'Manga'], dtype=object)"
            ]
          },
          "metadata": {},
          "execution_count": 101
        }
      ]
    },
    {
      "cell_type": "code",
      "source": [
        "df['Type'].unique()"
      ],
      "metadata": {
        "colab": {
          "base_uri": "https://localhost:8080/"
        },
        "id": "6FS1arrnz6i6",
        "outputId": "3aca07e1-73f5-49f0-f60d-5dad0177f336",
        "collapsed": true
      },
      "execution_count": 102,
      "outputs": [
        {
          "output_type": "execute_result",
          "data": {
            "text/plain": [
              "array(['Manga', 'Novel', 'Light Novel', 'Manhua', 'Manhwa', 'One-shot'],\n",
              "      dtype=object)"
            ]
          },
          "metadata": {},
          "execution_count": 102
        }
      ]
    },
    {
      "cell_type": "code",
      "source": [
        "df['Members'].unique()"
      ],
      "metadata": {
        "colab": {
          "base_uri": "https://localhost:8080/"
        },
        "collapsed": true,
        "id": "K7Pe338cz_ig",
        "outputId": "93509c29-f9a8-4894-98db-cb2ce1bfaef7"
      },
      "execution_count": 103,
      "outputs": [
        {
          "output_type": "execute_result",
          "data": {
            "text/plain": [
              "array(['729,426 members', '282,501 members', '409,202 members',\n",
              "       '645,598 members', '260,280 members', '180,651 members',\n",
              "       '321,912 members', '13,581 members', '302,818 members',\n",
              "       '183,431 members', '18,228 members', '6,212 members',\n",
              "       '180,557 members', '470,780 members', '145,118 members',\n",
              "       '95,259 members', '278,184 members', '55,980 members',\n",
              "       '60,959 members', '8,653 members', '162,248 members',\n",
              "       '280,721 members', '23,982 members', '18,527 members',\n",
              "       '33,535 members', '175,985 members', '70,952 members',\n",
              "       '226,275 members', '13,847 members', '276,243 members',\n",
              "       '19,565 members', '140,035 members', '66,081 members',\n",
              "       '43,256 members', '136,954 members', '90,930 members',\n",
              "       '89,462 members', '61,130 members', '151,883 members',\n",
              "       '120,646 members', '73,252 members', '38,574 members',\n",
              "       '83,652 members', '34,565 members', '173,004 members',\n",
              "       '16,622 members', '286,435 members', '36,981 members',\n",
              "       '91,748 members', '89,321 members', '72,331 members',\n",
              "       '168,442 members', '13,458 members', '14,272 members',\n",
              "       '498,921 members', '4,499 members', '74,883 members',\n",
              "       '87,728 members', '651,552 members', '97,864 members',\n",
              "       '104,870 members', '45,984 members', '5,218 members',\n",
              "       '406,963 members', '83,273 members', '184,657 members',\n",
              "       '45,854 members', '137,365 members', '534,757 members',\n",
              "       '16,604 members', '8,793 members', '77,835 members',\n",
              "       '110,791 members', '132,763 members', '101,252 members',\n",
              "       '28,606 members', '24,779 members', '97,769 members',\n",
              "       '48,699 members', '57,024 members', '14,238 members',\n",
              "       '14,976 members', '165,949 members', '98,080 members',\n",
              "       '64,789 members', '15,954 members', '39,966 members',\n",
              "       '127,140 members', '10,465 members', '70,419 members',\n",
              "       '130,738 members', '120,688 members', '5,489 members',\n",
              "       '18,931 members', '55,317 members', '27,812 members',\n",
              "       '59,834 members', '10,974 members', '42,532 members',\n",
              "       '19,514 members', '29,377 members', '129,512 members',\n",
              "       '82,132 members', '33,626 members', '13,484 members',\n",
              "       '6,477 members', '9,515 members', '20,065 members',\n",
              "       '43,105 members', '117,590 members', '106,510 members',\n",
              "       '48,810 members', '180,396 members', '74,660 members',\n",
              "       '54,064 members', '17,624 members', '118,507 members',\n",
              "       '668,257 members', '93,094 members', '23,518 members',\n",
              "       '17,447 members', '100,277 members', '91,691 members',\n",
              "       '35,821 members', '17,452 members', '6,847 members',\n",
              "       '145,788 members', '38,902 members', '22,564 members',\n",
              "       '73,461 members', '37,778 members', '8,060 members',\n",
              "       '13,446 members', '39,582 members', '16,234 members',\n",
              "       '29,420 members', '522,641 members', '26,527 members',\n",
              "       '4,021 members', '15,872 members', '13,811 members',\n",
              "       '27,961 members', '6,912 members', '16,513 members',\n",
              "       '20,438 members', '130,669 members', '28,381 members',\n",
              "       '117,905 members', '65,254 members', '31,276 members',\n",
              "       '5,964 members', '313,896 members', '39,669 members',\n",
              "       '7,519 members', '52,957 members', '95,331 members',\n",
              "       '18,978 members', '46,008 members', '44,797 members',\n",
              "       '25,343 members', '23,233 members', '41,211 members',\n",
              "       '38,105 members', '141,012 members', '186,941 members',\n",
              "       '29,406 members', '20,916 members', '46,655 members',\n",
              "       '48,604 members', '157,513 members', '22,186 members',\n",
              "       '55,557 members', '68,753 members', '64,198 members',\n",
              "       '56,159 members', '8,731 members', '78,897 members',\n",
              "       '111,516 members', '42,883 members', '17,535 members',\n",
              "       '22,096 members', '37,856 members', '37,869 members',\n",
              "       '24,804 members', '30,440 members', '15,713 members',\n",
              "       '90,310 members', '7,684 members', '21,146 members',\n",
              "       '168,800 members', '10,638 members', '13,929 members',\n",
              "       '82,385 members', '8,684 members', '169,174 members',\n",
              "       '99,279 members', '12,451 members', '9,852 members',\n",
              "       '43,027 members', '11,794 members', '61,184 members',\n",
              "       '9,274 members', '3,566 members', '21,514 members',\n",
              "       '85,218 members', '163,137 members', '343,721 members',\n",
              "       '20,369 members', '50,650 members', '19,319 members',\n",
              "       '24,684 members', '31,446 members', '19,959 members',\n",
              "       '28,275 members', '25,342 members', '142,759 members',\n",
              "       '11,253 members', '6,971 members', '107,201 members',\n",
              "       '29,801 members', '92,158 members', '33,853 members',\n",
              "       '11,685 members', '145,333 members', '86,245 members',\n",
              "       '167,597 members', '40,811 members', '34,270 members',\n",
              "       '31,473 members', '64,902 members', '21,807 members',\n",
              "       '85,225 members', '61,982 members', '23,248 members',\n",
              "       '81,615 members', '12,947 members', '6,774 members',\n",
              "       '28,077 members', '86,072 members', '65,864 members',\n",
              "       '105,844 members', '33,680 members', '178,205 members',\n",
              "       '136,427 members', '94,760 members', '198,428 members',\n",
              "       '43,803 members', '6,017 members', '8,647 members',\n",
              "       '188,657 members', '90,136 members', '55,871 members',\n",
              "       '16,529 members', '19,283 members', '34,072 members',\n",
              "       '148,666 members', '19,371 members', '140,042 members',\n",
              "       '41,140 members', '1,540 members', '10,221 members',\n",
              "       '8,895 members', '7,404 members', '8,061 members', '2,926 members',\n",
              "       '16,568 members', '12,414 members', '6,452 members',\n",
              "       '5,025 members', '62,177 members', '8,123 members',\n",
              "       '7,303 members', '43,083 members', '93,932 members',\n",
              "       '12,430 members', '16,239 members', '43,355 members',\n",
              "       '15,876 members', '3,768 members', '65,559 members',\n",
              "       '43,628 members', '12,596 members', '27,006 members',\n",
              "       '27,614 members', '31,279 members', '5,994 members',\n",
              "       '81,766 members', '29,181 members', '4,708 members',\n",
              "       '10,822 members', '25,509 members', '22,701 members',\n",
              "       '3,472 members', '5,689 members', '14,841 members',\n",
              "       '36,421 members', '35,582 members', '14,243 members',\n",
              "       '23,793 members', '59,792 members', '124,638 members',\n",
              "       '36,525 members', '40,938 members', '3,656 members',\n",
              "       '60,367 members', '14,788 members', '6,341 members',\n",
              "       '2,811 members', '34,522 members', '11,209 members',\n",
              "       '297,147 members', '8,381 members', '81,700 members',\n",
              "       '23,253 members', '55,357 members', '162,433 members',\n",
              "       '56,765 members', '15,333 members', '9,744 members',\n",
              "       '162,165 members', '21,999 members', '456,290 members',\n",
              "       '23,675 members', '70,358 members', '6,561 members',\n",
              "       '106,049 members', '28,319 members', '162,880 members',\n",
              "       '24,985 members', '99,438 members', '208,864 members',\n",
              "       '18,844 members', '58,225 members', '61,008 members',\n",
              "       '16,294 members', '15,900 members', '8,003 members',\n",
              "       '44,708 members', '11,749 members', '25,259 members',\n",
              "       '37,049 members', '30,698 members', '16,441 members',\n",
              "       '12,880 members', '119,184 members', '60,866 members',\n",
              "       '7,221 members', '26,516 members', '82,606 members',\n",
              "       '8,049 members', '15,475 members', '154,365 members',\n",
              "       '77,495 members', '7,350 members', '3,917 members',\n",
              "       '40,745 members', '13,470 members', '43,735 members',\n",
              "       '160,150 members', '22,772 members', '10,931 members',\n",
              "       '24,687 members', '10,952 members', '117,378 members',\n",
              "       '29,857 members', '194,114 members', '7,429 members',\n",
              "       '55,766 members', '6,322 members', '30,813 members',\n",
              "       '57,717 members', '207,407 members', '16,192 members',\n",
              "       '62,602 members', '15,240 members', '25,661 members',\n",
              "       '21,881 members', '49,768 members', '13,731 members',\n",
              "       '52,184 members', '170,453 members', '12,612 members',\n",
              "       '30,324 members', '22,960 members', '114,601 members',\n",
              "       '17,078 members', '34,368 members', '22,892 members',\n",
              "       '24,700 members', '5,963 members', '71,819 members',\n",
              "       '24,470 members', '16,453 members', '11,483 members',\n",
              "       '35,449 members', '34,446 members', '25,110 members',\n",
              "       '4,547 members', '3,065 members', '3,792 members',\n",
              "       '26,100 members', '4,634 members', '4,503 members',\n",
              "       '5,686 members', '18,709 members', '9,577 members',\n",
              "       '29,992 members', '59,738 members', '53,541 members',\n",
              "       '16,468 members', '3,492 members', '7,351 members',\n",
              "       '76,755 members', '41,789 members', '30,332 members',\n",
              "       '63,509 members', '24,640 members', '8,526 members',\n",
              "       '123,870 members', '27,726 members', '12,639 members',\n",
              "       '46,562 members', '7,843 members', '11,857 members',\n",
              "       '6,733 members', '12,302 members', '11,880 members',\n",
              "       '19,156 members', '5,530 members', '6,749 members',\n",
              "       '4,790 members', '79,613 members', '56,841 members',\n",
              "       '20,195 members', '8,506 members', '14,853 members',\n",
              "       '28,099 members', '48,339 members', '167,482 members',\n",
              "       '95,340 members', '19,619 members', '197,915 members',\n",
              "       '9,683 members', '8,933 members', '39,988 members',\n",
              "       '12,303 members', '26,038 members', '14,750 members',\n",
              "       '62,838 members', '14,458 members', '94,890 members',\n",
              "       '15,320 members', '14,142 members', '73,653 members',\n",
              "       '11,859 members', '4,523 members', '114,624 members',\n",
              "       '22,531 members', '10,433 members', '12,577 members',\n",
              "       '2,767 members', '2,124 members', '45,599 members',\n",
              "       '24,767 members', '18,245 members', '8,080 members',\n",
              "       '98,076 members', '9,804 members', '27,041 members',\n",
              "       '1,679 members', '2,484 members', '35,212 members',\n",
              "       '102,111 members', '19,573 members', '13,294 members',\n",
              "       '7,673 members', '237,203 members', '42,638 members',\n",
              "       '12,906 members', '9,974 members', '5,478 members',\n",
              "       '86,960 members', '6,933 members', '55,925 members',\n",
              "       '125,512 members', '53,535 members', '13,277 members',\n",
              "       '13,344 members', '30,654 members', '14,703 members',\n",
              "       '10,815 members', '3,465 members', '5,809 members',\n",
              "       '4,578 members', '43,422 members', '36,409 members',\n",
              "       '31,990 members', '19,658 members', '44,879 members'], dtype=object)"
            ]
          },
          "metadata": {},
          "execution_count": 103
        }
      ]
    },
    {
      "cell_type": "code",
      "source": [
        "df['Title'].unique()"
      ],
      "metadata": {
        "colab": {
          "base_uri": "https://localhost:8080/"
        },
        "id": "yANDToGN_667",
        "outputId": "5eb83b40-a80d-43fd-a922-14c9a65732f6"
      },
      "execution_count": 104,
      "outputs": [
        {
          "output_type": "execute_result",
          "data": {
            "text/plain": [
              "array(['Berserk', 'JoJo no Kimyou na Bouken Part 7: Steel Ball Run',\n",
              "       'Vagabond', 'One Piece', 'Monster', 'Slam Dunk', 'Vinland Saga',\n",
              "       'Tian Guan Cifu', 'Fullmetal Alchemist', 'Grand Blue',\n",
              "       \"Omniscient Reader's Viewpoint\", 'Guimi Zhi Zhu', 'Kingdom',\n",
              "       'Oyasumi Punpun', 'Houseki no Kuni', 'Real', '20th Century Boys',\n",
              "       'Ashita no Joe', 'Monogatari Series: First Season',\n",
              "       'Mo Dao Zu Shi', 'Yotsuba to!',\n",
              "       'Kaguya-sama wa Kokurasetai: Tensai-tachi no Renai Zunousen',\n",
              "       'Monogatari Series: Second Season',\n",
              "       'Umineko no Naku Koro ni Chiru - Episode 8: Twilight of the Golden Witch',\n",
              "       'Mikkakan no Koufuku', 'GTO', '3-gatsu no Lion', 'Haikyuu!!',\n",
              "       'Koe no Katachi', 'Monogatari Series: Final Season',\n",
              "       'Akatsuki no Yona', 'Ookami to Koushinryou', '86',\n",
              "       'Sousou no Frieren', 'Mushoku Tensei: Isekai Ittara Honki Dasu',\n",
              "       'Youkoso Jitsuryoku Shijou Shugi no Kyoushitsu e',\n",
              "       'Kaze no Tani no Nausicaä', 'Nana', 'Kokou no Hito',\n",
              "       'Re:Zero kara Hajimeru Isekai Seikatsu',\n",
              "       'Youkoso Jitsuryoku Shijou Shugi no Kyoushitsu e: 2-nensei-hen',\n",
              "       'Kaoru Hana wa Rin to Saku', 'The Greatest Estate Developer',\n",
              "       'Jumyou wo Kaitotte Moratta. Ichinen ni Tsuki, Ichimanen de.',\n",
              "       'Honzuki no Gekokujou: Shisho ni Naru Tame ni wa Shudan wo Erandeiraremasen',\n",
              "       'Hunter x Hunter', 'Uchuu Kyoudai', 'Hajime no Ippo',\n",
              "       'Dungeon Meshi',\n",
              "       'Yahari Ore no Seishun Love Comedy wa Machigatteiru.',\n",
              "       'Made in Abyss', 'Kusuriya no Hitorigoto', 'Veil', 'One Punch-Man',\n",
              "       'Fata Morgana no Yakata: Anata no Genten ni Itaru Monogatari',\n",
              "       'Shoujo Shuumatsu Ryokou', 'Mushishi', 'Chainsaw Man',\n",
              "       'The Horizon', 'Utsuro no Hako to Zero no Maria',\n",
              "       'Kono Oto Tomare!', 'No Home', 'Death Note', 'Beck', 'Dorohedoro',\n",
              "       'Natsume Yuujinchou', 'Akira', 'Solo Leveling',\n",
              "       'Bungou Stray Dogs: Beast', 'Kimi no Suizou wo Tabetai',\n",
              "       'Yokohama Kaidashi Kikou', 'Yagate Kimi ni Naru', 'Sayonara Eri',\n",
              "       'Tongari Boushi no Atelier', 'Violet Evergarden',\n",
              "       'Zaregoto Series', 'Gintama', 'Kozure Ookami', 'Wind Breaker',\n",
              "       'Umineko no Naku Koro ni Chiru - Episode 7: Requiem of the Golden Witch',\n",
              "       'ReLIFE', 'Golden Kamuy', 'Overlord',\n",
              "       'Shinyaku Toaru Majutsu no Index', 'Aria', 'Pluto',\n",
              "       'Ginga Eiyuu Densetsu', 'Blue Period', 'Mob Psycho 100',\n",
              "       'Mahoutsukai no Yoru', 'Koten-bu Series',\n",
              "       'Kono Subarashii Sekai ni Shukufuku wo!',\n",
              "       'Seishun Buta Yarou Series', 'Banana Fish', '19 Tian',\n",
              "       'Skip to Loafer', 'Kimi to Tsuzuru Utakata',\n",
              "       'Umarekawattemo Mata, Watashi to Kekkon shitekuremasu ka',\n",
              "       'Shigatsu wa Kimi no Uso', 'Ao Ashi', 'Seasons of Blossom',\n",
              "       'After School Lessons for Unripe Apples',\n",
              "       'Tobaku Datenroku Kaiji: One Poker-hen',\n",
              "       'Kino no Tabi: The Beautiful World', 'Usogui',\n",
              "       'Shinseiki Evangelion',\n",
              "       'JoJo no Kimyou na Bouken Part 4: Diamond wa Kudakenai',\n",
              "       'Chihayafuru', 'Pandora Hearts', 'Otoyomegatari', 'The Fable',\n",
              "       'Diamond no Ace Act II', 'Jibaku Shounen Hanako-kun',\n",
              "       'Shingeki no Kyojin', 'Skip Beat!', 'Hi no Tori (1967)',\n",
              "       'Kara no Kyoukai: The Garden of Sinners',\n",
              "       'Rurouni Kenshin: Meiji Kenkaku Romantan',\n",
              "       'Kamisama Hajimemashita', 'One Outs', 'Nan Hao Shang Feng',\n",
              "       'Umineko no Naku Koro ni', 'Fruits Basket',\n",
              "       'Suzumiya Haruhi Series', 'Ping Pong', 'Billy Bat',\n",
              "       'Sasaki to Miyano', 'Monogatari Series: Monster Season',\n",
              "       'Medalist', 'The Legend of the Northern Blade', 'Hirayasumi',\n",
              "       'Eleceed', 'Tokyo Ghoul',\n",
              "       'Shuumatsu Nani Shitemasu ka? Isogashii desu ka? Sukutte Moratte Ii desu ka?',\n",
              "       'Umineko no Naku Koro ni Chiru',\n",
              "       'Umineko no Naku Koro ni Chiru - Episode 5: End of the Golden Witch',\n",
              "       'Steins;Gate', 'Kakukaku Shikajika',\n",
              "       'Monogatari Series: Off Season', 'Kidou Senshi Gundam: The Origin',\n",
              "       'Baccano!', 'Ouran Koukou Host Club', 'Fate/Zero',\n",
              "       'Watashitachi no Shiawase na Jikan', 'Given',\n",
              "       'Sakamichi no Apollon', 'Webtoon Character Na Kang Lim',\n",
              "       'Spy x Family', 'Bakemonogatari',\n",
              "       'Yagate Kimi ni Naru: Saeki Sayaka ni Tsuite',\n",
              "       'Yubisaki to Renren', 'Bungou Stray Dogs',\n",
              "       'Berserk: Shinen no Kami 2', 'The Boxer',\n",
              "       'Return of the Blossoming Blade', 'Blue Giant',\n",
              "       'Tensei shitara Slime Datta Ken', 'Ohayou, Ibarahime', 'Bastard',\n",
              "       'Blue Lock', 'Here U Are',\n",
              "       'Otonari no Tenshi-sama ni Itsunomanika Dame Ningen ni Sareteita Ken',\n",
              "       'Spirit Circle', 'Chikan Otoko',\n",
              "       'JoJo no Kimyou na Bouken Part 8: JoJolion', 'Cross Game',\n",
              "       'Who Made Me a Princess', 'Vanitas no Karte', 'Shimanami Tasogare',\n",
              "       'Hinamatsuri', 'blanc', 'Eyeshield 21', 'Kami nomi zo Shiru Sekai',\n",
              "       'Kyou kara Ore wa!!', 'Rainbow: Nisha Rokubou no Shichinin',\n",
              "       'Yuukoku no Moriarty', 'Kage no Jitsuryokusha ni Naritakute!',\n",
              "       'Song of the Long March', 'Doraemon', 'Holyland', 'Spirit Fingers',\n",
              "       'Shimeji Simulation', 'Dandadan', 'Hirano to Kagiura',\n",
              "       'Umineko no Naku Koro ni Chiru - Episode 6: Dawn of the Golden Witch',\n",
              "       'Gekkan Shoujo Nozaki-kun', 'Lost in the Cloud', 'Dragon Ball',\n",
              "       '21st Century Boys', 'Glass no Kamen', 'Juuni Kokuki', 'Barakamon',\n",
              "       'No Game No Life', 'Souyaku Toaru Majutsu no Index',\n",
              "       'Tobaku Mokushiroku Kaiji', 'Mugen no Juunin', 'Kuroshitsuji',\n",
              "       'Horimiya', 'Shiori Experience: Jimi na Watashi to Hen na Ojisan',\n",
              "       'Kimi wa Houkago Insomnia', 'Toshokan no Daimajutsushi',\n",
              "       'Youjo Senki', 'Innocent Rouge', 'Yuru Camp△', 'Nodame Cantabile',\n",
              "       'Basara', 'Onanie Master Kurosawa', 'Adachi to Shimamura',\n",
              "       'Natsu e no Tunnel, Sayonara no Deguchi', 'Look Back',\n",
              "       'Kininatteru Hito ga Otoko ja Nakatta', 'Kimi no Na wa.',\n",
              "       'Villains Are Destined to Die', 'Tobaku Hakairoku Kaiji',\n",
              "       'The Breaker', 'Gunnm', 'Kaichou wa Maid-sama!', 'Nichijou',\n",
              "       'My Girl', 'Toaru Majutsu no Index', 'SQ: Begin W/Your Name!',\n",
              "       'No.6', 'Imawa no Kuni no Alice', 'Mata, Onaji Yume wo Miteita',\n",
              "       'Tomodachi Game',\n",
              "       'Shousetsu Akatsuki no Yona: Onaji Tsuki no Shita de',\n",
              "       'Love Bullet', 'Kumo desu ga, Nani ka?', 'xxxHOLiC',\n",
              "       'Cardcaptor Sakura', 'Kiseijuu', 'SKET Dance', 'Bakuman.',\n",
              "       'The Breaker: New Waves', 'Tower of God', 'Shadows House',\n",
              "       'Watashi no Oshi wa Akuyaku Reijou.: Revolution', 'Daytime Star',\n",
              "       'Noragami', 'Boku dake ga Inai Machi', 'Azumanga Daioh',\n",
              "       'Umineko no Naku Koro ni - Episode 3: Banquet of the Golden Witch',\n",
              "       'Versailles no Bara', 'Konjiki no Gash!!', 'Homunculus',\n",
              "       'Kieta Hatsukoi', 'Wotaku ni Koi wa Muzukashii',\n",
              "       'Ballroom e Youkoso',\n",
              "       'Youkoso Jitsuryoku Shijou Shugi no Kyoushitsu e 0',\n",
              "       'Fate/strange Fake', 'Her Tale of Shim Chong', 'Ikoku Nikki',\n",
              "       'Shousetsu Kimi no Na wa.', 'Whale Star: The Gyeongseong Mermaid',\n",
              "       'Kanata kara', 'Hadashi no Gen', 'Ten: Tenhou-doori no Kaidanji',\n",
              "       'Kimi no Yoru ni Fureru', 'Mairimashita! Iruma-kun',\n",
              "       \"Bleach: Can't Fear Your Own World\", 'Gochuumon wa Usagi desu ka?',\n",
              "       'Gin no Saji', 'Mahoutsukai no Yome', 'Naruto Shinden Series',\n",
              "       'Piano no Mori', 'JoJo no Kimyou na Bouken Part 9: The JoJoLands',\n",
              "       'I Shall Master This Family', 'Haruka Tooki Ie', 'Lovely★Complex',\n",
              "       'Gakuen Alice', 'Full Metal Panic! Sigma',\n",
              "       'Saikyou Densetsu Kurosawa', 'Durarara!!', 'Machida-kun no Sekai',\n",
              "       'Mushishi Tokubetsu-hen: Hihamukage', 'Totsukuni no Shoujo',\n",
              "       'Blue Giant Supreme', 'Mayonaka Heart Tune',\n",
              "       'Ookami Kodomo no Ame to Yuki', 'Harukaze no Étranger',\n",
              "       'Violet Evergarden Gaiden', 'NHK ni Youkoso!',\n",
              "       'Teito Seihai Kitan: Fate/type Redline', 'Mars',\n",
              "       'Shin Angyo Onshi', 'Touch', 'Black Jack', 'Hoshi no Samidare',\n",
              "       'Kimi ni Todoke',\n",
              "       'Death Note Another Note: Los Angeles BB Renzoku Satsujin Jiken',\n",
              "       'Doukyuusei', 'Daichouhen Doraemon', 'Love So Life',\n",
              "       'Takemitsuzamurai', 'Re:Zero kara Hajimeru Isekai Seikatsu Ex',\n",
              "       'Uma Musume Cinderella Gray', 'Saiki Kusuo no Ψ-nan',\n",
              "       'Canis Series', 'Tokyo Ghoul:re',\n",
              "       'Chichi to Hige-Gorilla to Watashi',\n",
              "       'Tsubasa: RESERVoir CHRoNiCLE', 'Kodomo no Omocha',\n",
              "       'Paradise Kiss', 'Blame!', 'Black Lagoon',\n",
              "       'Umineko no Naku Koro ni - Episode 4: Alliance of the Golden Witch',\n",
              "       'Shouwa Genroku Rakugo Shinjuu', 'Orange', 'Ojisama to Neko',\n",
              "       'Jujutsu Kaisen', 'Bocchi the Rock!', 'Annarasumanara',\n",
              "       'Sakamichi no Apollon: Bonus Track', 'Fumetsu no Anata e',\n",
              "       'Koko wa Ima kara Rinri desu.', 'D.Gray-man',\n",
              "       'Sora wa Akai Kawa no Hotori', 'Hellsing', 'Claymore',\n",
              "       'Tokyo Crazy Paradise', 'Angel Densetsu', 'Meitantei Conan',\n",
              "       'Buddha', 'Higurashi no Naku Koro ni Kai: Meakashi-hen',\n",
              "       'Komatta Toki ni wa Hoshi ni Kike', 'Hana to Akuma',\n",
              "       'Higurashi no Naku Koro ni Kai: Minagoroshi-hen',\n",
              "       'Gakuen Babysitters', 'Hanazakari no Kimitachi e',\n",
              "       'Trigun Maximum', 'Saint Seiya: The Lost Canvas - Meiou Shinwa',\n",
              "       'Higurashi no Naku Koro ni Kai: Tsumihoroboshi-hen',\n",
              "       'Dengeki Daisy', 'Kengan Ashura',\n",
              "       'Akuyaku Reijou no Naka no Hito: Danzai sareta Tenseisha no Tame Usotsuki Heroine ni Fukushuu Itashimasu',\n",
              "       'Boy Meets Maria', 'Sweet Home', 'Katanagatari', 'Yomawari Sensei',\n",
              "       'Magi', 'Bungou Stray Dogs Wan!', 'Yuki no Yousei',\n",
              "       'SSS-Class Revival Hunter', 'Leviathan', 'Kuragehime',\n",
              "       'Ansatsu Kyoushitsu', 'Sword Art Online: Progressive',\n",
              "       'Feng Shen Ji III', 'Hachimitsu to Clover', 'Saiyuuki Gaiden',\n",
              "       'Liar Game',\n",
              "       'Toaru Majutsu no Index Gaiden: Toaru Kagaku no Railgun',\n",
              "       '\"Oshi no Ko\"', 'Hidamari ga Kikoeru: Limit',\n",
              "       'Boku no Kokoro no Yabai Yatsu', 'Amayo no Tsuki', 'Initial D',\n",
              "       'Planetes', 'JoJo no Kimyou na Bouken Part 6: Stone Ocean',\n",
              "       'Kamigami no Itadaki', 'Kishuku Gakkou no Juliet', 'Koimonogatari',\n",
              "       'Taishou Otome Otogibanashi', 'Sunny', 'Feng Shen Ji II',\n",
              "       'Act-age', 'Jigokuraku', \"King's Maker\",\n",
              "       'Dungeon ni Deai wo Motomeru no wa Machigatteiru Darou ka',\n",
              "       'Hai to Gensou no Grimgar', 'Beastars',\n",
              "       'Kaichou wa Maid-sama!: Marriage', 'Petshop of Horrors',\n",
              "       'Shonan Junai Gumi!', 'Rookies',\n",
              "       'Hikari to Tomo ni...: Jiheishouji wo Kakaete',\n",
              "       'Akagami no Shirayuki-hime', 'Diamond no Ace', 'Yuru Yuri',\n",
              "       'Ghost Hunt', 'Boogiepop Series', 'Sanctuary', 'Cat Street',\n",
              "       'GTO: Shonan 14 Days',\n",
              "       'Private Opinion: Banana Fish Another Story', 'Urasekai Picnic',\n",
              "       'Danshi Koukousei no Nichijou',\n",
              "       'Steins;Gate: Aishin Meizu no Babel', 'Make Heroine ga Oosugiru!',\n",
              "       'Sensou Kyoushitsu', 'Pick Me Up',\n",
              "       'Tsuihou sareru Tabi ni Skill wo Te ni Ireta Ore ga, 100 no Isekai de 2-shuume Musou',\n",
              "       'Yugami-kun ni wa Tomodachi ga Inai', 'Tsurezure Children',\n",
              "       'Summertime Render', \"A Stepmother's Märchen\",\n",
              "       'Ren Zha Fanpai Zijiu Xitong', 'Boku ga Otto ni Deau made',\n",
              "       'Ao no Hako', 'Genshiken', 'Hourou Musuko',\n",
              "       \"Eden: It's an Endless World!\", '7 Seeds', 'Silver Diamond',\n",
              "       'Solanin', 'Crows', 'Non Non Biyori', 'Hikaru ga Shinda Natsu',\n",
              "       'Semantic Error', 'See You in My 19th Life', 'Tadaima, Okaeri',\n",
              "       'NieR:Automata', 'Majo no Tabitabi', 'Majo to Yajuu',\n",
              "       'Steins;Gate 0', 'Romance 101', 'Houkago Kitaku Biyori',\n",
              "       'Dead Dead Demons Dededede Destruction',\n",
              "       'Bishoujo Senshi Sailor Moon', 'Meteor Methuselah',\n",
              "       'Saiyuuki Reload', 'The Ravages of Time', 'Toradora!',\n",
              "       'Tasogare Otome x Amnesia', 'Aku no Hana', 'Taiyou no Ie',\n",
              "       'Date A Live', 'Dr. Stone', 'Machikado Mazoku',\n",
              "       'Cheese in the Trap Season 4',\n",
              "       \"Why Raeliana Ended Up at the Duke's Mansion\", 'Gimai Seikatsu',\n",
              "       'Historie', 'Rokka no Yuusha', 'Innocent', 'Bokura no Shokutaku',\n",
              "       'Hirunaka no Ryuusei',\n",
              "       'Mondaiji-tachi ga Isekai kara Kuru Sou desu yo?', 'xxxHOLiC: Rei',\n",
              "       'Yuu☆Yuu☆Hakusho', 'H2', 'Koori no Mamono no Monogatari',\n",
              "       'JoJo no Kimyou na Bouken Part 5: Ougon no Kaze', 'The One',\n",
              "       'Higurashi no Naku Koro ni Kai: Matsuribayashi-hen',\n",
              "       'How to Win My Husband Over', 'Debut or Die!',\n",
              "       'Mushoku Tensei: Dasoku-hen',\n",
              "       'Shinai naru Boku e Satsui wo Komete', 'Your Throne',\n",
              "       'Tokidoki Bosotto Russia-go de Dereru Tonari no Alya-san',\n",
              "       'Fushigi Neko no Kyuu-chan', 'Yofukashi no Uta',\n",
              "       'Cheese in the Trap Season 3', 'Nano Machine',\n",
              "       'Mairimashita! Iruma-kun: If Episode of Mafia', 'Getter Robo Saga',\n",
              "       'High School DxD', 'Last Game', \"Can't See Can't Hear But Love\",\n",
              "       'Akagi: Yami ni Oritatta Tensai',\n",
              "       'Hitsugikatsugi no Kuro.: Kaichu Tabi no Wa', 'Uzumaki',\n",
              "       'Shingetsutan Tsukihime', 'Fushigi Yuugi: Genbu Kaiden',\n",
              "       'Ookiku Furikabutte', 'Touhou Shinigami: Meteor Methuselah Gaiden',\n",
              "       'Tonikaku Kawaii', 'Bungou Stray Dogs: Dead Apple',\n",
              "       'Yamada-kun to Lv999 no Koi wo Suru', 'Sakamoto Days',\n",
              "       'Shingeki no Kyojin: Kuinaki Sentaku', 'Fukigen na Mononokean',\n",
              "       'Otouto no Otto', 'Mahouka Koukou no Rettousei',\n",
              "       'Hajishirazu no Purple Haze: JoJo no Kimyou na Bouken yori',\n",
              "       'Nukozuke!', 'Yoake no Uta', 'Tsukuritai Onna to Tabetai Onna',\n",
              "       'Shin High School DxD', 'Ase to Sekken',\n",
              "       'Sasayaku You ni Koi wo Utau', 'Sayonara Zetsubou Sensei',\n",
              "       'Sengoku Youko', 'Sora no Otoshimono'], dtype=object)"
            ]
          },
          "metadata": {},
          "execution_count": 104
        }
      ]
    },
    {
      "cell_type": "code",
      "source": [
        "df.info()"
      ],
      "metadata": {
        "colab": {
          "base_uri": "https://localhost:8080/"
        },
        "id": "eCEAUNCOAEv2",
        "outputId": "e111fde9-0061-43c0-98bf-64981db06a8d"
      },
      "execution_count": 105,
      "outputs": [
        {
          "output_type": "stream",
          "name": "stdout",
          "text": [
            "<class 'pandas.core.frame.DataFrame'>\n",
            "RangeIndex: 500 entries, 0 to 499\n",
            "Data columns (total 6 columns):\n",
            " #   Column        Non-Null Count  Dtype  \n",
            "---  ------        --------------  -----  \n",
            " 0   Rank          500 non-null    int64  \n",
            " 1   Title         500 non-null    object \n",
            " 2   Type          500 non-null    object \n",
            " 3   Score         500 non-null    float64\n",
            " 4   Year_release  497 non-null    float64\n",
            " 5   Members       500 non-null    object \n",
            "dtypes: float64(2), int64(1), object(3)\n",
            "memory usage: 23.6+ KB\n"
          ]
        }
      ]
    },
    {
      "cell_type": "code",
      "source": [
        "#df.to_excel('Top_Manga_Myanimelist.xlsx', index =False)"
      ],
      "metadata": {
        "id": "kCMtnDUd0PYG"
      },
      "execution_count": 106,
      "outputs": []
    }
  ]
}